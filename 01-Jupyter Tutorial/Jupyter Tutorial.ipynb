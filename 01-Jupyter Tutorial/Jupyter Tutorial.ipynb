{
 "cells": [
  {
   "cell_type": "markdown",
   "id": "c5b96b3f",
   "metadata": {},
   "source": [
    "#### Optional Lab:  Brief Introduction to Python and Jupyter Notebooks\n",
    "Welcome to the first optional lab! \n",
    "Optional labs are available to:\n",
    "- Provide additional information - like this notebook\n",
    "- Give hands-on examples to reinforce lecture material\n",
    "- Provide working examples of routines used in the graded labs"
   ]
  },
  {
   "cell_type": "markdown",
   "id": "271cd756",
   "metadata": {},
   "source": [
    "## Goals\n",
    "In this lab, you will:\n",
    "- Get a brief instructions to Jupyter Notebooks\n",
    "- Give a tour of its features\n",
    "- Distinguish between markdown cells and code cells\n",
    "- Offer some basic practice in Python programming"
   ]
  },
  {
   "cell_type": "markdown",
   "id": "217aafaf",
   "metadata": {},
   "source": [
    "The easiest way to become familiar with Jupyther notebooks is to take the tour available above in the Help Menu."
   ]
  },
  {
   "cell_type": "markdown",
   "id": "4a4962f3",
   "metadata": {},
   "source": [
    "Jupyter Notebooks have two types of cells that are used. Cells such as this which contain documentation called `Markdown cells`. The name is derived from the simple formatting langauge used in the cells. You will not be required to produce markdown cells. It is useful `cell pulldown`. Ocassionally, a cell will end up in the wrong mode and you may need to restore it to the right state."
   ]
  },
  {
   "cell_type": "markdown",
   "id": "cd7a6e86",
   "metadata": {},
   "source": [
    "The other type of cell is the `code cell` where you will write your code:"
   ]
  },
  {
   "cell_type": "code",
   "execution_count": 2,
   "id": "a2d226ee",
   "metadata": {},
   "outputs": [
    {
     "name": "stdout",
     "output_type": "stream",
     "text": [
      "This is a code cell\n"
     ]
    }
   ],
   "source": [
    "#This is a `Code Cell`\n",
    "print(\"This is a code cell\")"
   ]
  },
  {
   "cell_type": "markdown",
   "id": "69a1de49",
   "metadata": {},
   "source": [
    "## Python\n",
    "You can write your code in the code cells.\n",
    "To run the code, select the cell and either\n",
    "- Hold and the shift-key down and 'enter' or 'return'\n",
    "- Click the 'run' arrow above"
   ]
  },
  {
   "cell_type": "markdown",
   "id": "2caf424d",
   "metadata": {},
   "source": [
    "## Print Statement\n",
    "Print statements will generally use the python f-string style.\n",
    "Try creating your own print in the following cell\n",
    "Try both methods of running the cell"
   ]
  },
  {
   "cell_type": "code",
   "execution_count": 1,
   "id": "5806ddc9",
   "metadata": {},
   "outputs": [
    {
     "name": "stdout",
     "output_type": "stream",
     "text": [
      "f JavaScript, often abbreviated as JS, is a programming language!\n"
     ]
    }
   ],
   "source": [
    "# print statements\n",
    "variable = \"is a programming language!\"\n",
    "print(f\"f JavaScript, often abbreviated as JS, {variable}\")"
   ]
  },
  {
   "cell_type": "markdown",
   "id": "41c96003",
   "metadata": {},
   "source": [
    "# Congratulations!\n",
    "Now know how to find your way around a Jupyter Notebook."
   ]
  }
 ],
 "metadata": {
  "kernelspec": {
   "display_name": "Python 3",
   "language": "python",
   "name": "python3"
  },
  "language_info": {
   "codemirror_mode": {
    "name": "ipython",
    "version": 3
   },
   "file_extension": ".py",
   "mimetype": "text/x-python",
   "name": "python",
   "nbconvert_exporter": "python",
   "pygments_lexer": "ipython3",
   "version": "3.10.8"
  },
  "vscode": {
   "interpreter": {
    "hash": "6ff7b3df741a51d8aa344ce540491f8700e9fdac826951b08268effc4792108a"
   }
  }
 },
 "nbformat": 4,
 "nbformat_minor": 5
}
